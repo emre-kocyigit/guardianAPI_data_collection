{
  "nbformat": 4,
  "nbformat_minor": 0,
  "metadata": {
    "colab": {
      "provenance": []
    },
    "kernelspec": {
      "name": "python3",
      "display_name": "Python 3"
    },
    "language_info": {
      "name": "python"
    }
  },
  "cells": [
    {
      "cell_type": "code",
      "execution_count": 1,
      "metadata": {
        "id": "GqWxtQR3td_n"
      },
      "outputs": [],
      "source": [
        "import pandas as pd\n",
        "import requests\n",
        "from bs4 import BeautifulSoup"
      ]
    },
    {
      "cell_type": "markdown",
      "source": [
        "### Create a dataframe based on a csv file"
      ],
      "metadata": {
        "id": "tAdugKfIuPS-"
      }
    },
    {
      "cell_type": "code",
      "source": [
        "df = pd.read_csv(\"/content/guardian_data_emmanuel_macron_2023.csv\")"
      ],
      "metadata": {
        "id": "WMSVXerMuVHs"
      },
      "execution_count": 2,
      "outputs": []
    },
    {
      "cell_type": "code",
      "source": [
        "df.head()"
      ],
      "metadata": {
        "colab": {
          "base_uri": "https://localhost:8080/",
          "height": 289
        },
        "id": "zUCWmzcMugJu",
        "outputId": "7c2b74cb-b586-4d2b-edac-a1582f11da86"
      },
      "execution_count": 3,
      "outputs": [
        {
          "output_type": "execute_result",
          "data": {
            "text/plain": [
              "       type     sectionName    webPublicationDate  \\\n",
              "0   article  Life and style  2023-01-01T12:00:46Z   \n",
              "1   article      World news  2023-01-01T14:10:49Z   \n",
              "2   article      World news  2023-01-02T14:00:17Z   \n",
              "3  liveblog      World news  2023-01-03T19:00:10Z   \n",
              "4   article      World news  2023-01-04T16:18:01Z   \n",
              "\n",
              "                                            webTitle  \\\n",
              "0  Sport, TV, tech and fashion: what does 2023 ha...   \n",
              "1  1m people gather on Champs-Élysées in Paris to...   \n",
              "2  ‘Not all traditions are good’: lethal accident...   \n",
              "3  Zelenskiy warns of Russian drone campaign as U...   \n",
              "4  Moscow blames its troops’ use of mobile phones...   \n",
              "\n",
              "                                              webUrl        date  \n",
              "0  https://www.theguardian.com/lifeandstyle/2023/...  2023-01-01  \n",
              "1  https://www.theguardian.com/world/2023/jan/01/...  2023-01-01  \n",
              "2  https://www.theguardian.com/world/2023/jan/02/...  2023-01-02  \n",
              "3  https://www.theguardian.com/world/live/2023/ja...  2023-01-03  \n",
              "4  https://www.theguardian.com/world/2023/jan/04/...  2023-01-04  "
            ],
            "text/html": [
              "\n",
              "  <div id=\"df-175f7ef7-e87b-45a9-ab60-223881c29ade\" class=\"colab-df-container\">\n",
              "    <div>\n",
              "<style scoped>\n",
              "    .dataframe tbody tr th:only-of-type {\n",
              "        vertical-align: middle;\n",
              "    }\n",
              "\n",
              "    .dataframe tbody tr th {\n",
              "        vertical-align: top;\n",
              "    }\n",
              "\n",
              "    .dataframe thead th {\n",
              "        text-align: right;\n",
              "    }\n",
              "</style>\n",
              "<table border=\"1\" class=\"dataframe\">\n",
              "  <thead>\n",
              "    <tr style=\"text-align: right;\">\n",
              "      <th></th>\n",
              "      <th>type</th>\n",
              "      <th>sectionName</th>\n",
              "      <th>webPublicationDate</th>\n",
              "      <th>webTitle</th>\n",
              "      <th>webUrl</th>\n",
              "      <th>date</th>\n",
              "    </tr>\n",
              "  </thead>\n",
              "  <tbody>\n",
              "    <tr>\n",
              "      <th>0</th>\n",
              "      <td>article</td>\n",
              "      <td>Life and style</td>\n",
              "      <td>2023-01-01T12:00:46Z</td>\n",
              "      <td>Sport, TV, tech and fashion: what does 2023 ha...</td>\n",
              "      <td>https://www.theguardian.com/lifeandstyle/2023/...</td>\n",
              "      <td>2023-01-01</td>\n",
              "    </tr>\n",
              "    <tr>\n",
              "      <th>1</th>\n",
              "      <td>article</td>\n",
              "      <td>World news</td>\n",
              "      <td>2023-01-01T14:10:49Z</td>\n",
              "      <td>1m people gather on Champs-Élysées in Paris to...</td>\n",
              "      <td>https://www.theguardian.com/world/2023/jan/01/...</td>\n",
              "      <td>2023-01-01</td>\n",
              "    </tr>\n",
              "    <tr>\n",
              "      <th>2</th>\n",
              "      <td>article</td>\n",
              "      <td>World news</td>\n",
              "      <td>2023-01-02T14:00:17Z</td>\n",
              "      <td>‘Not all traditions are good’: lethal accident...</td>\n",
              "      <td>https://www.theguardian.com/world/2023/jan/02/...</td>\n",
              "      <td>2023-01-02</td>\n",
              "    </tr>\n",
              "    <tr>\n",
              "      <th>3</th>\n",
              "      <td>liveblog</td>\n",
              "      <td>World news</td>\n",
              "      <td>2023-01-03T19:00:10Z</td>\n",
              "      <td>Zelenskiy warns of Russian drone campaign as U...</td>\n",
              "      <td>https://www.theguardian.com/world/live/2023/ja...</td>\n",
              "      <td>2023-01-03</td>\n",
              "    </tr>\n",
              "    <tr>\n",
              "      <th>4</th>\n",
              "      <td>article</td>\n",
              "      <td>World news</td>\n",
              "      <td>2023-01-04T16:18:01Z</td>\n",
              "      <td>Moscow blames its troops’ use of mobile phones...</td>\n",
              "      <td>https://www.theguardian.com/world/2023/jan/04/...</td>\n",
              "      <td>2023-01-04</td>\n",
              "    </tr>\n",
              "  </tbody>\n",
              "</table>\n",
              "</div>\n",
              "    <div class=\"colab-df-buttons\">\n",
              "\n",
              "  <div class=\"colab-df-container\">\n",
              "    <button class=\"colab-df-convert\" onclick=\"convertToInteractive('df-175f7ef7-e87b-45a9-ab60-223881c29ade')\"\n",
              "            title=\"Convert this dataframe to an interactive table.\"\n",
              "            style=\"display:none;\">\n",
              "\n",
              "  <svg xmlns=\"http://www.w3.org/2000/svg\" height=\"24px\" viewBox=\"0 -960 960 960\">\n",
              "    <path d=\"M120-120v-720h720v720H120Zm60-500h600v-160H180v160Zm220 220h160v-160H400v160Zm0 220h160v-160H400v160ZM180-400h160v-160H180v160Zm440 0h160v-160H620v160ZM180-180h160v-160H180v160Zm440 0h160v-160H620v160Z\"/>\n",
              "  </svg>\n",
              "    </button>\n",
              "\n",
              "  <style>\n",
              "    .colab-df-container {\n",
              "      display:flex;\n",
              "      gap: 12px;\n",
              "    }\n",
              "\n",
              "    .colab-df-convert {\n",
              "      background-color: #E8F0FE;\n",
              "      border: none;\n",
              "      border-radius: 50%;\n",
              "      cursor: pointer;\n",
              "      display: none;\n",
              "      fill: #1967D2;\n",
              "      height: 32px;\n",
              "      padding: 0 0 0 0;\n",
              "      width: 32px;\n",
              "    }\n",
              "\n",
              "    .colab-df-convert:hover {\n",
              "      background-color: #E2EBFA;\n",
              "      box-shadow: 0px 1px 2px rgba(60, 64, 67, 0.3), 0px 1px 3px 1px rgba(60, 64, 67, 0.15);\n",
              "      fill: #174EA6;\n",
              "    }\n",
              "\n",
              "    .colab-df-buttons div {\n",
              "      margin-bottom: 4px;\n",
              "    }\n",
              "\n",
              "    [theme=dark] .colab-df-convert {\n",
              "      background-color: #3B4455;\n",
              "      fill: #D2E3FC;\n",
              "    }\n",
              "\n",
              "    [theme=dark] .colab-df-convert:hover {\n",
              "      background-color: #434B5C;\n",
              "      box-shadow: 0px 1px 3px 1px rgba(0, 0, 0, 0.15);\n",
              "      filter: drop-shadow(0px 1px 2px rgba(0, 0, 0, 0.3));\n",
              "      fill: #FFFFFF;\n",
              "    }\n",
              "  </style>\n",
              "\n",
              "    <script>\n",
              "      const buttonEl =\n",
              "        document.querySelector('#df-175f7ef7-e87b-45a9-ab60-223881c29ade button.colab-df-convert');\n",
              "      buttonEl.style.display =\n",
              "        google.colab.kernel.accessAllowed ? 'block' : 'none';\n",
              "\n",
              "      async function convertToInteractive(key) {\n",
              "        const element = document.querySelector('#df-175f7ef7-e87b-45a9-ab60-223881c29ade');\n",
              "        const dataTable =\n",
              "          await google.colab.kernel.invokeFunction('convertToInteractive',\n",
              "                                                    [key], {});\n",
              "        if (!dataTable) return;\n",
              "\n",
              "        const docLinkHtml = 'Like what you see? Visit the ' +\n",
              "          '<a target=\"_blank\" href=https://colab.research.google.com/notebooks/data_table.ipynb>data table notebook</a>'\n",
              "          + ' to learn more about interactive tables.';\n",
              "        element.innerHTML = '';\n",
              "        dataTable['output_type'] = 'display_data';\n",
              "        await google.colab.output.renderOutput(dataTable, element);\n",
              "        const docLink = document.createElement('div');\n",
              "        docLink.innerHTML = docLinkHtml;\n",
              "        element.appendChild(docLink);\n",
              "      }\n",
              "    </script>\n",
              "  </div>\n",
              "\n",
              "\n",
              "<div id=\"df-1935b561-b979-46bb-8e57-94c804208068\">\n",
              "  <button class=\"colab-df-quickchart\" onclick=\"quickchart('df-1935b561-b979-46bb-8e57-94c804208068')\"\n",
              "            title=\"Suggest charts\"\n",
              "            style=\"display:none;\">\n",
              "\n",
              "<svg xmlns=\"http://www.w3.org/2000/svg\" height=\"24px\"viewBox=\"0 0 24 24\"\n",
              "     width=\"24px\">\n",
              "    <g>\n",
              "        <path d=\"M19 3H5c-1.1 0-2 .9-2 2v14c0 1.1.9 2 2 2h14c1.1 0 2-.9 2-2V5c0-1.1-.9-2-2-2zM9 17H7v-7h2v7zm4 0h-2V7h2v10zm4 0h-2v-4h2v4z\"/>\n",
              "    </g>\n",
              "</svg>\n",
              "  </button>\n",
              "\n",
              "<style>\n",
              "  .colab-df-quickchart {\n",
              "      --bg-color: #E8F0FE;\n",
              "      --fill-color: #1967D2;\n",
              "      --hover-bg-color: #E2EBFA;\n",
              "      --hover-fill-color: #174EA6;\n",
              "      --disabled-fill-color: #AAA;\n",
              "      --disabled-bg-color: #DDD;\n",
              "  }\n",
              "\n",
              "  [theme=dark] .colab-df-quickchart {\n",
              "      --bg-color: #3B4455;\n",
              "      --fill-color: #D2E3FC;\n",
              "      --hover-bg-color: #434B5C;\n",
              "      --hover-fill-color: #FFFFFF;\n",
              "      --disabled-bg-color: #3B4455;\n",
              "      --disabled-fill-color: #666;\n",
              "  }\n",
              "\n",
              "  .colab-df-quickchart {\n",
              "    background-color: var(--bg-color);\n",
              "    border: none;\n",
              "    border-radius: 50%;\n",
              "    cursor: pointer;\n",
              "    display: none;\n",
              "    fill: var(--fill-color);\n",
              "    height: 32px;\n",
              "    padding: 0;\n",
              "    width: 32px;\n",
              "  }\n",
              "\n",
              "  .colab-df-quickchart:hover {\n",
              "    background-color: var(--hover-bg-color);\n",
              "    box-shadow: 0 1px 2px rgba(60, 64, 67, 0.3), 0 1px 3px 1px rgba(60, 64, 67, 0.15);\n",
              "    fill: var(--button-hover-fill-color);\n",
              "  }\n",
              "\n",
              "  .colab-df-quickchart-complete:disabled,\n",
              "  .colab-df-quickchart-complete:disabled:hover {\n",
              "    background-color: var(--disabled-bg-color);\n",
              "    fill: var(--disabled-fill-color);\n",
              "    box-shadow: none;\n",
              "  }\n",
              "\n",
              "  .colab-df-spinner {\n",
              "    border: 2px solid var(--fill-color);\n",
              "    border-color: transparent;\n",
              "    border-bottom-color: var(--fill-color);\n",
              "    animation:\n",
              "      spin 1s steps(1) infinite;\n",
              "  }\n",
              "\n",
              "  @keyframes spin {\n",
              "    0% {\n",
              "      border-color: transparent;\n",
              "      border-bottom-color: var(--fill-color);\n",
              "      border-left-color: var(--fill-color);\n",
              "    }\n",
              "    20% {\n",
              "      border-color: transparent;\n",
              "      border-left-color: var(--fill-color);\n",
              "      border-top-color: var(--fill-color);\n",
              "    }\n",
              "    30% {\n",
              "      border-color: transparent;\n",
              "      border-left-color: var(--fill-color);\n",
              "      border-top-color: var(--fill-color);\n",
              "      border-right-color: var(--fill-color);\n",
              "    }\n",
              "    40% {\n",
              "      border-color: transparent;\n",
              "      border-right-color: var(--fill-color);\n",
              "      border-top-color: var(--fill-color);\n",
              "    }\n",
              "    60% {\n",
              "      border-color: transparent;\n",
              "      border-right-color: var(--fill-color);\n",
              "    }\n",
              "    80% {\n",
              "      border-color: transparent;\n",
              "      border-right-color: var(--fill-color);\n",
              "      border-bottom-color: var(--fill-color);\n",
              "    }\n",
              "    90% {\n",
              "      border-color: transparent;\n",
              "      border-bottom-color: var(--fill-color);\n",
              "    }\n",
              "  }\n",
              "</style>\n",
              "\n",
              "  <script>\n",
              "    async function quickchart(key) {\n",
              "      const quickchartButtonEl =\n",
              "        document.querySelector('#' + key + ' button');\n",
              "      quickchartButtonEl.disabled = true;  // To prevent multiple clicks.\n",
              "      quickchartButtonEl.classList.add('colab-df-spinner');\n",
              "      try {\n",
              "        const charts = await google.colab.kernel.invokeFunction(\n",
              "            'suggestCharts', [key], {});\n",
              "      } catch (error) {\n",
              "        console.error('Error during call to suggestCharts:', error);\n",
              "      }\n",
              "      quickchartButtonEl.classList.remove('colab-df-spinner');\n",
              "      quickchartButtonEl.classList.add('colab-df-quickchart-complete');\n",
              "    }\n",
              "    (() => {\n",
              "      let quickchartButtonEl =\n",
              "        document.querySelector('#df-1935b561-b979-46bb-8e57-94c804208068 button');\n",
              "      quickchartButtonEl.style.display =\n",
              "        google.colab.kernel.accessAllowed ? 'block' : 'none';\n",
              "    })();\n",
              "  </script>\n",
              "</div>\n",
              "    </div>\n",
              "  </div>\n"
            ],
            "application/vnd.google.colaboratory.intrinsic+json": {
              "type": "dataframe",
              "variable_name": "df",
              "summary": "{\n  \"name\": \"df\",\n  \"rows\": 1042,\n  \"fields\": [\n    {\n      \"column\": \"type\",\n      \"properties\": {\n        \"dtype\": \"category\",\n        \"num_unique_values\": 2,\n        \"samples\": [\n          \"liveblog\",\n          \"article\"\n        ],\n        \"semantic_type\": \"\",\n        \"description\": \"\"\n      }\n    },\n    {\n      \"column\": \"sectionName\",\n      \"properties\": {\n        \"dtype\": \"category\",\n        \"num_unique_values\": 28,\n        \"samples\": [\n          \"US news\",\n          \"Games\"\n        ],\n        \"semantic_type\": \"\",\n        \"description\": \"\"\n      }\n    },\n    {\n      \"column\": \"webPublicationDate\",\n      \"properties\": {\n        \"dtype\": \"object\",\n        \"num_unique_values\": 1025,\n        \"samples\": [\n          \"2023-09-15T08:42:51Z\",\n          \"2023-06-19T14:45:55Z\"\n        ],\n        \"semantic_type\": \"\",\n        \"description\": \"\"\n      }\n    },\n    {\n      \"column\": \"webTitle\",\n      \"properties\": {\n        \"dtype\": \"string\",\n        \"num_unique_values\": 1021,\n        \"samples\": [\n          \"Friday briefing: What explains Libya and Morocco\\u2019s very different responses to catastrophe?\",\n          \"Civilians and soldiers held hostage in Gaza, says Israel \\u2013 as it happened\"\n        ],\n        \"semantic_type\": \"\",\n        \"description\": \"\"\n      }\n    },\n    {\n      \"column\": \"webUrl\",\n      \"properties\": {\n        \"dtype\": \"string\",\n        \"num_unique_values\": 1025,\n        \"samples\": [\n          \"https://www.theguardian.com/politics/2023/sep/15/eu-quota-scheme-not-part-of-labour-asylum-plans-says-cooper\",\n          \"https://www.theguardian.com/world/2023/jun/19/macron-rugby-club-beer-stunt-sparks-binge-drinking-row\"\n        ],\n        \"semantic_type\": \"\",\n        \"description\": \"\"\n      }\n    },\n    {\n      \"column\": \"date\",\n      \"properties\": {\n        \"dtype\": \"object\",\n        \"num_unique_values\": 389,\n        \"samples\": [\n          \"2023-11-26\",\n          \"2023-03-05\"\n        ],\n        \"semantic_type\": \"\",\n        \"description\": \"\"\n      }\n    }\n  ]\n}"
            }
          },
          "metadata": {},
          "execution_count": 3
        }
      ]
    },
    {
      "cell_type": "code",
      "source": [
        "df.info()"
      ],
      "metadata": {
        "colab": {
          "base_uri": "https://localhost:8080/"
        },
        "id": "si7wZPt2ulco",
        "outputId": "b59a3946-4767-44c8-d3b8-b845b0f10762"
      },
      "execution_count": 4,
      "outputs": [
        {
          "output_type": "stream",
          "name": "stdout",
          "text": [
            "<class 'pandas.core.frame.DataFrame'>\n",
            "RangeIndex: 1042 entries, 0 to 1041\n",
            "Data columns (total 6 columns):\n",
            " #   Column              Non-Null Count  Dtype \n",
            "---  ------              --------------  ----- \n",
            " 0   type                1042 non-null   object\n",
            " 1   sectionName         1042 non-null   object\n",
            " 2   webPublicationDate  1042 non-null   object\n",
            " 3   webTitle            1042 non-null   object\n",
            " 4   webUrl              1042 non-null   object\n",
            " 5   date                1042 non-null   object\n",
            "dtypes: object(6)\n",
            "memory usage: 49.0+ KB\n"
          ]
        }
      ]
    },
    {
      "cell_type": "code",
      "source": [
        "test_df = df.head(20).copy()"
      ],
      "metadata": {
        "id": "iOegbhPAzP1E"
      },
      "execution_count": 8,
      "outputs": []
    },
    {
      "cell_type": "code",
      "source": [
        "test_df.info()"
      ],
      "metadata": {
        "colab": {
          "base_uri": "https://localhost:8080/"
        },
        "id": "dcwFVe2GzTIN",
        "outputId": "96c533c2-c624-4015-ecb5-853953088e6b"
      },
      "execution_count": 9,
      "outputs": [
        {
          "output_type": "stream",
          "name": "stdout",
          "text": [
            "<class 'pandas.core.frame.DataFrame'>\n",
            "RangeIndex: 20 entries, 0 to 19\n",
            "Data columns (total 6 columns):\n",
            " #   Column              Non-Null Count  Dtype \n",
            "---  ------              --------------  ----- \n",
            " 0   type                20 non-null     object\n",
            " 1   sectionName         20 non-null     object\n",
            " 2   webPublicationDate  20 non-null     object\n",
            " 3   webTitle            20 non-null     object\n",
            " 4   webUrl              20 non-null     object\n",
            " 5   date                20 non-null     object\n",
            "dtypes: object(6)\n",
            "memory usage: 1.1+ KB\n"
          ]
        }
      ]
    },
    {
      "cell_type": "markdown",
      "source": [
        "### Define a scrape function"
      ],
      "metadata": {
        "id": "mA5eq-uOyw9L"
      }
    },
    {
      "cell_type": "code",
      "source": [
        "def scrape_html(url):\n",
        "    try:\n",
        "        response = requests.get(url)\n",
        "        if response.status_code == 200:\n",
        "            return response.text\n",
        "        else:\n",
        "            print(f\"Failed to retrieve HTML from {url}. Status code: {response.status_code}\")\n",
        "            return None\n",
        "    except requests.RequestException as e:\n",
        "        print(f\"Error occurred while fetching HTML from {url}: {e}\")\n",
        "        return None"
      ],
      "metadata": {
        "id": "_hAN0yMiumyx"
      },
      "execution_count": 5,
      "outputs": []
    },
    {
      "cell_type": "markdown",
      "source": [
        "## Scrape the content/text of each URL's HTML"
      ],
      "metadata": {
        "id": "NzDwaB5L625z"
      }
    },
    {
      "cell_type": "code",
      "source": [
        "for index, row in test_df.iterrows():\n",
        "    url = row['webUrl']\n",
        "    html_content = scrape_html(url)\n",
        "    if html_content:\n",
        "        # perform scraping using BeautifulSoup or any other library\n",
        "        soup = BeautifulSoup(html_content, 'html.parser')\n",
        "        test_df['content'] = soup.get_text()\n"
      ],
      "metadata": {
        "id": "zDn1hPmGy9k1"
      },
      "execution_count": 18,
      "outputs": []
    },
    {
      "cell_type": "code",
      "source": [
        "test_df['content'][0]"
      ],
      "metadata": {
        "colab": {
          "base_uri": "https://localhost:8080/",
          "height": 171
        },
        "id": "B6tueY0EzLrj",
        "outputId": "82af9ff4-64ed-4100-fb5d-e9f59d1596fa"
      },
      "execution_count": 19,
      "outputs": [
        {
          "output_type": "execute_result",
          "data": {
            "text/plain": [
              "\"\\n\\n\\n\\n\\nRussia-Ukraine war: Polish president ‘afraid Moscow is preparing new offensive’ – as it happened | Ukraine | The Guardian\\n\\n\\n\\n\\n\\n\\n\\n\\n\\n\\n\\n\\n\\n\\n\\n\\n\\n\\n\\n\\n\\n\\n\\n\\n\\n\\n\\n\\n\\n\\n\\n\\n\\n\\n\\n\\n\\n\\n\\n\\n\\n\\n\\n\\n\\n\\n\\n\\n\\n\\n\\n\\n\\n\\n\\n\\n\\n\\n\\n\\n\\n\\n\\n\\n\\n\\n\\n\\n\\n\\n\\n\\n\\n\\n\\n\\n\\n\\n\\n\\n\\n\\n\\n\\n\\n\\n\\n\\n\\n\\n\\nSkip to main contentSkip to navigationClose dialogue1/4Next imagePrevious imageToggle captionSkip to key eventsSkip to navigationPrint subscriptions Sign inSearch jobsSearchUS editionUS editionUK editionAustralia editionInternational editionEurope editionThe Guardian - Back to homeThe GuardianNewsOpinionSportCultureLifestyleShowMoreShow MoreNewsView all NewsUS newsUS elections 2024Donald Trump trialsWorld newsEnvironmentUkraineSoccerBusinessTechScienceNewslettersWellnessOpinionView all OpinionThe Guardian viewColumnistsLettersOpinion videosCartoonsSportView all SportSoccerNFLTennisMLBMLSNBANHLF1GolfCultureView all CultureFilmBooksMusicArt & designTV & radioStageClassicalGamesLifestyleView all LifestyleWellnessFashionFoodRecipesLove & sexHome & gardenHealth & fitnessFamilyTravelMoneySearch input google-search SearchSupport usPrint subscriptionsUS editionUK editionAustralia editionInternational editionEurope editionSearch jobsDigital ArchiveGuardian LicensingAbout UsThe Guardian appVideoPodcastsPicturesInside the GuardianGuardian WeeklyCrosswordsWordiplyCorrectionsFacebookTwitterSearch jobsDigital ArchiveGuardian LicensingAbout UsWorldEuropeUSAmericasAsiaAustraliaMiddle EastAfricaInequalityGlobal developmentUkraine war liveUkraine This article is more than 1 year oldRussia-Ukraine war: Polish president ‘afraid Moscow is preparing new offensive’ – as it happenedThis article is more than 1 year oldThis live blog has now closed, you can read more of our Russia-Ukraine war coverage here\\xa0Updated\\xa018 Jan 2023Léonie Chao-Fong (now); Martin Belam and Helen Sullivan (earlier)Wed 18 Jan 2023 14.01 ESTFirst published on Wed 18 Jan 2023 00.31 ESTShareKey events18 Jan 2023Closing summary18 Jan 2023Polish president 'afraid Russia is preparing new offensive'18 Jan 2023Zelenskiy: The world must not hesitate in its response to Russia18 Jan 2023Summary of the day so far18 Jan 2023Zelenskiy leads minute of silence before addressing world leaders in Davos18 Jan 2023Scholz ducks question on Leopard 2 Tanks, warns of risk of Russia-Nato war18 Jan 2023German chancellor ignores question on supply of tanks18 Jan 2023Ukraine needs 'significant increase' in weapons, says Stoltenberg18 Jan 2023Ukraine's police chief appinted new acting interior minister after helicopter crash18 Jan 2023Putin: Russia's victory in Ukraine is ‘inevitable’18 Jan 2023At least 16 killed in helicopter crash, says official18 Jan 2023‘Horrible day for Ukraine’, says first lady18 Jan 2023Summary of the day so far …18 Jan 2023At least 15 people, including interior minister Denys Monastyrskiy, killed in helicopter crash near Kyiv18 Jan 2023Zelenskiy: helicopter crash that killed minister is 'terrible tragedy' and a 'black morning'18 Jan 2023Death toll in Brovary helicopter crash which killed minister rises to 1818 Jan 2023Ukraine's interior minister killed in Brovary helicopter crash18 Jan 202316 people including children killed in helicopter crash near kindergarten in Kyiv region – reports18 Jan 2023Helicopter crashes near kindergarten in Brovary, Kyiv region – reports18 Jan 2023Welcome and summary1:23Russia could be preparing new Ukraine offensive, warns Polish president – videoLéonie Chao-Fong (now); Martin Belam and Helen Sullivan (earlier)Wed 18 Jan 2023 14.01 ESTFirst published on Wed 18 Jan 2023 00.31 ESTShareShow key events onlyPlease turn on JavaScript to use this featureLive feedFrom 18 Jan 202312.40\\xa0ESTPolish president 'afraid Russia is preparing new offensive'Graeme WeardenPoland’s president is backing Ukraine’s call for more support.Speaking on a panel after Volodymyr Zelenskiy’s special address, Andrzej Duda says he fears Russia is preparing a new offensive in Ukraine within months.It is crucial to provide additional support to Kyiv with modern tanks and missiles, Duda adds.He tells Davos delegates:\\nThey [ie Russia] are still very strong and we are afraid they are preparing for a new offensive in a few months so it is crucial to send additional support to Ukraine, specifically modern tanks and modern missiles.\\n1:23Russia could be preparing new Ukraine offensive, warns Polish president – videoShareUpdated at\\xa013.18 ESTKey events18 Jan 2023Closing summary18 Jan 2023Polish president 'afraid Russia is preparing new offensive'18 Jan 2023Zelenskiy: The world must not hesitate in its response to Russia18 Jan 2023Summary of the day so far18 Jan 2023Zelenskiy leads minute of silence before addressing world leaders in Davos18 Jan 2023Scholz ducks question on Leopard 2 Tanks, warns of risk of Russia-Nato war18 Jan 2023German chancellor ignores question on supply of tanks18 Jan 2023Ukraine needs 'significant increase' in weapons, says Stoltenberg18 Jan 2023Ukraine's police chief appinted new acting interior minister after helicopter crash18 Jan 2023Putin: Russia's victory in Ukraine is ‘inevitable’18 Jan 2023At least 16 killed in helicopter crash, says official18 Jan 2023‘Horrible day for Ukraine’, says first lady18 Jan 2023Summary of the day so far …18 Jan 2023At least 15 people, including interior minister Denys Monastyrskiy, killed in helicopter crash near Kyiv18 Jan 2023Zelenskiy: helicopter crash that killed minister is 'terrible tragedy' and a 'black morning'18 Jan 2023Death toll in Brovary helicopter crash which killed minister rises to 1818 Jan 2023Ukraine's interior minister killed in Brovary helicopter crash18 Jan 202316 people including children killed in helicopter crash near kindergarten in Kyiv region – reports18 Jan 2023Helicopter crashes near kindergarten in Brovary, Kyiv region – reports18 Jan 2023Welcome and summaryShow key events onlyPlease turn on JavaScript to use this feature18 Jan 202314.00\\xa0ESTClosing summary\\nAt least 14 people, including Ukraine’s interior minister, Denys Monastyrsky, and other senior officials have been killed after a helicopter crashed near a nursery in a suburb of Kyiv. A number of children at the school in Brovary were among the casualties after debris hit the building. The most recent update, on Wednesday afternoon, suggested one child had been killed, after previous reports that the number was at least three.\\nOfficials gave no immediate account of the cause of the crash. The SBU state security service said it was investigating possible causes, including a breach of flight rules, a technical malfunction and the intentional destruction of the helicopter.\\nMonastyrsky, who was responsible for the police and security inside Ukraine, is the most senior Ukrainian official to die since the war began. Ukraine’s national police chief, Ihor Klymenko, has been appointed acting interior minister. The victims of the crash include Monastyrsky’s first deputy, Yevhen Yenin, the state secretary of the ministry of internal affairs Yuri Lubkovych, their assistants and the helicopter crew.\\nMap\\nSeparately, Ukraine reported intense fighting overnight in the east of the country, where both sides have taken huge losses for little gain in intense trench warfare over the past two months. Ukrainian forces repelled attacks in the eastern city of Bakhmut and the nearby village of Klishchiivka, the Ukrainian military said. Russia has focused on Bakhmut in recent weeks, claiming last week to have taken the mining town of Soledar on its northern outskirts.\\nVladimir Putin has said he has “no doubt” that Russia’s victory in Ukraine was “inevitable”. Putin announced that Russia’s military-industrial complex was ramping up production during a visit to a factory in St Petersburg. In a separate speech, the Russian leader also claimed Moscow’s actions in Ukraine were intended to stop a “war” that had been raging in eastern Ukraine for many years. Ukraine and the west have rejected Putin’s stated objectives of demilitarising and “denazifying” Ukraine as a pretext for a war of choice and unprovoked aggression.\\nBulgaria helped Ukraine survive Russia’s early onslaught by secretly supplying it with large amounts of desperately needed diesel and ammunition, the politicians responsible have said. The former Bulgarian prime minister Kiril Petkov and finance minister Assen Vassilev said their country, one of the poorest EU members and long perceived as pro-Moscow, provided 30% of the Soviet-calibre ammunition Ukraine’s army needed during a crucial three-month period last spring, and at times 40% of the diesel.\\nVolodymyr Zelenskiy has stepped up calls for Ukraine’s army to be supplied with heavy tanks and urged “resolve and speed” of decision-making from western allies in the face of resistance from the German chancellor, Olaf Scholz. Addressing a packed gathering at the World Economic Forum in Davos via video link, Ukraine’s president warned that “tyranny is outpacing democracy” as Germany hesitated over whether to supply the country with Leopard 2 tanks.\\n1:44'Tragedies outpacing life': Zelenskiy urges world to speed up response to Russian aggression –\\xa0video\\nNato’s secretary general, Jens Stoltenberg, has said Ukraine needed a “significant increase” in weapons in order to reach a “negotiated peaceful solution”. He was cautious on whether Germany would lift its opposition to sending its Leopard battle tanks to Ukraine, or at least approve their transfer, saying consultations were ongoing. Nato’s deputy secretary general, Mircea Geoană, warned that the military alliance must be prepared “for the long haul” and support Ukraine for as long as it took.\\nGermany’s chancellor avoided committing to the supply of Leopard 2 tanks to Ukraine at the Davos summit, although he held the door open to a positive decision at a special summit of western defence ministers on Friday. Olaf Scholz did not mention the Leopard tanks at all when a Ukrainian delegate asked him “why the hesitancy” in signing off their re-export, prompting an apparently frustrated Ukrainian president to warn the same forum against delay.\\nPoland’s president has warned that Russia could be planning a new offensive in the coming months, calling on countries to provide Ukraine with “weapons, weapons, weapons”. Andrzej Duda told delegates at the World Economic Forum in Davos that Russia was still strong and that more action was needed to support Ukraine, adding that current levels of assistance were inadequate.\\nCanada has announced that it will donate 200 armoured personnel carriers (APCs) to Ukraine. The move came during a visit to Kyiv by Canada’s defence minister, Anita Anand. Zelenskiy thanked the Canadian people and its prime minister, Justin Trudeau, “on this difficult day”.\\nFour people have been detained by Moscow police at a makeshift memorial dedicated to victims of Saturday’s deadly missile strike on a residential building in the Ukrainian city of Dnipro, according to a report. People began placing flowers at the statue of Ukrainian writer Lesya Ukrainka in a “spontaneous memorial in memory of the victims of the missile strike in Dnipro”, the independent Russian human rights monitor OVD-Info said.\\nShareUpdated at\\xa014.08 EST18 Jan 202313.52\\xa0ESTJoe Biden has released a statement expressing his condolences to the families of those killed in this morning’s helicopter crash in Brovary.The US president praised interior minister Denys Monastyrsky’s efforts to fight Russian aggression and push for reforms to strengthen Ukraine’s democracy. He added:\\nWe will continue to honour that legacy through efforts to strengthen Ukraine’s institutions, and in our unfailing partnership with the people of Ukraine to keep the flame of freedom bright.\\nShareUpdated at\\xa014.00 EST18 Jan 202313.41\\xa0ESTUkraine’s interior ministry adviser, Anton Gerashchenko, has shared pictures of two people he says were killed in a helicopter crash in Brovary, Kyiv, this morning.Little Milana and her mom Olena died today after the helicopter crash. Milana's sister and her dad Oleksandr lost their two most important people.Deepest condolences. 📷: Anna Volkova/Instagram pic.twitter.com/HV02HL3QDM— Anton Gerashchenko (@Gerashchenko_en) January 18, 2023\\nBrovary’s mayor, Ihor Sapozhko, has announced three days of mourning after at least 14 people, including a child, were killed in this today’s crash.Posting to Telegram, he said:\\nJanuary 19, 20 and 21 have been declared Days of Mourning in our community following the tragedy that happened today in Brovary … There are no words to convey the pain of loss.\\nShareUpdated at\\xa014.01 EST18 Jan 202313.35\\xa0ESTPoland’s president has warned that Russia could be planning a new offensive in the coming months, calling on countries to provide Ukraine with “weapons, weapons, weapons”.Andrzej Duda told delegates at the World Economic Forum in Davos that Russia was still strong and that more action was needed to support Ukraine, adding that current levels of assistance were inadequate.He said:\\nThis moment will answer the question, will Ukraine, survive or not?\\n1:23Russia could be preparing new Ukraine offensive, warns Polish president – videoShare18 Jan 202313.13\\xa0ESTVolodymyr Zelenskiy has stepped up calls for Ukraine’s army to be supplied with heavy tanks and urged “resolve and speed” of decision-making from western allies in the face of resistance from the German chancellor, Olaf Scholz.Addressing a packed gathering at the World Economic Forum in Davos via video link on Wednesday, Ukraine’s president warned that “tyranny is outpacing democracy” as Germany hesitates over whether to supply the country with Leopard 2 tanks.View image in fullscreenUkraine’s president, Volodymyr Zelenskiy, addresses the World Economic Forum via video link in Davos, Switzerland on 18 January. Photograph: Arnd Wiegmann/ReutersScholz dashed hopes that he would announce a decision to supply Ukraine with heavy tanks in his keynote speech in Davos earlier in the day, making no new weapon commitments and warning the world needed to avoid escalating the conflict into a war between Russia and Nato.Instead, Scholz ran through a list of the military hardware Germany was supplying and stressed his country’s determination to ensure Ukraine triumphed.But speaking hours after a helicopter crash near a suburb of Kyiv that killed 14 people, including Ukraine’s interior minister, Denys Monastyrsky, Zelenskiy said that Ukraine cannot afford to wait for Russia to regroup. He said:\\nThe world must not hesitate today and ever. When the evil seeks revenge the world needs resolve and speed. The supply of Ukraine with air defence systems must outpace Russia’s next missile attacks. The supply of western tanks must outpace another invasion of Russian tanks.\\nThe restoration of security and peace in Ukraine must outpace Russia’s attacks on security and peace in other countries.\\nHis speech was attended by his wife, Olena Zelenska, and some of Ukraine’s closest allies including the Polish president, Andrzej Duda, as well as the Nato secretary general, Jens Stoltenberg.Read the full report here:Zelenskiy uses Davos speech to intensify call for more tanks from alliesRead moreShare18 Jan 202312.59\\xa0ESTFour people have been detained by Moscow police at a makeshift memorial dedicated to victims of Saturday’s deadly missile strike on a residential building in the Ukrainian city of Dnipro, according to a report.At least 45 people, including six children, were killed and 19 people are still missing after a Russian X-22 anti-ship ballistic missile hit an apartment block on Saturday.People began placing flowers at the statue of Ukrainian writer Lesya Ukrainka in a “spontaneous memorial in memory of the victims of the missile strike in Dnipro”, the independent Russian human rights monitor OVD-Info said.It said authorities detained two people who laid flowers at the monument in western Moscow along with two of their companions.Share18 Jan 202312.50\\xa0ESTThe Ukrainian president has called on the world not to hesitate in confronting Russia, more broadly criticising the lack of speed in the reaction to various developing crises, including Russia’s invasion of Ukraine.Volodymyr Zelenskiy told delegates at the World Economic Forum on Wednesday:\\nThe time the free world uses to think is used by the terrorist state to kill.\\n1:44'Tragedies outpacing life': Zelenskiy urges world to speed up response to Russian aggression –\\xa0videoShare18 Jan 202312.40\\xa0ESTPolish president 'afraid Russia is preparing new offensive'Graeme WeardenPoland’s president is backing Ukraine’s call for more support.Speaking on a panel after Volodymyr Zelenskiy’s special address, Andrzej Duda says he fears Russia is preparing a new offensive in Ukraine within months.It is crucial to provide additional support to Kyiv with modern tanks and missiles, Duda adds.He tells Davos delegates:\\nThey [ie Russia] are still very strong and we are afraid they are preparing for a new offensive in a few months so it is crucial to send additional support to Ukraine, specifically modern tanks and modern missiles.\\n1:23Russia could be preparing new Ukraine offensive, warns Polish president – videoShareUpdated at\\xa013.18 EST18 Jan 202312.37\\xa0ESTThe US will provide $125m (£101m) for electrical parts and other supplies to help Ukraine repair crews keep up with Russian strikes pounding the country’s electrical system, the head of the US international development aid Samantha Power has announced.The money will be used to procure backup power for Kyiv’s water and district-heating systems, and to help replenish supplies of gas turbines, transformers and other vital power equipment, the US agency for international development (USAid) said.ShareUpdated at\\xa012.40 EST18 Jan 202312.21\\xa0ESTBritain and the US “stand united against Putin’s illegal war in Ukraine”, the UK’s Foreign Office says.The UK foreign secretary, James Cleverly, is in Washington where he met his US counterpart, Antony Blinken, before this week’s gathering of top defence officials from dozens of countries at the US Ramstein airbase in Germany to coordinate military aid for Kyiv.The pair “agreed to deepen our two countries’ diplomatic and security ties to ensure that, in the end, the Ukrainian people will win”, the Foreign Office tweeted alongside a photo of the meeting.The UK and the US stand united against Putin’s illegal war in Ukraine.Foreign Secretary @JamesCleverly met @SecBlinken in Washington DC where they agreed to deepen our two countries’ diplomatic and security ties to ensure that, in the end, the Ukrainian people will win. pic.twitter.com/yjb83V6JnU— Foreign, Commonwealth & Development Office (@FCDOGovUK) January 18, 2023\\nShareUpdated at\\xa012.35 EST18 Jan 202312.15\\xa0ESTZelenskiy: The world must not hesitate in its response to RussiaPresident Volodymyr Zelenskiy used his address to the World Economic Forum in Davos to urge world leaders to quickly supply Ukraine with the weapons it needs to combat Russia’s aggression.The world was “hesitant” when Russia took over Crimea in 2014, and when it attempted to invade the entire of Ukraine in February last year, Zelenskiy said, adding:\\nThe world must not hesitate today and ever.\\nHe said that although his country did not start the war, “it is us who will have to end it”.He added:\\nThe supplying of Ukraine with air defence systems must outpace Russia’s next missile attacks. The restoration of security and peace in Ukraine must outpace Russia’s attacks on security and peace in other countries.\\n1:44'Tragedies outpacing life': Zelenskiy urges world to speed up response to Russian aggression –\\xa0videoShareUpdated at\\xa012.39 EST18 Jan 202311.54\\xa0ESTSummary of the day so farIt’s nearly 7pm in Kyiv. Here’s where we stand:\\nAt least 14 people, including Ukraine’s interior minister, Denys Monastyrsky, and other senior officials have been killed after a helicopter crashed near a nursery in a suburb of Kyiv. A number of children at the school in Brovary were among the casualties after debris hit the building. The most recent update, on Wednesday afternoon, suggested one child had been killed, after previous reports that the number was at least three.\\nOfficials gave no immediate account of the cause of the crash. The SBU state security service said it was investigating possible causes, including a breach of flight rules, a technical malfunction and the intentional destruction of the helicopter.\\nMonastyrsky, who was responsible for the police and security inside Ukraine, is the most senior Ukrainian official to die since the war began. Ukraine’s national police chief, Ihor Klymenko, has been appointed acting interior minister. The victims of the crash include Monastyrsky’s first deputy, Yevhen Yenin, the state secretary of the ministry of internal affairs Yuri Lubkovych, their assistants and the helicopter crew.\\nMap\\nSeparately, Ukraine reported intense fighting overnight in the east of the country, where both sides have taken huge losses for little gain in intense trench warfare over the past two months. Ukrainian forces repelled attacks in the eastern city of Bakhmut and the nearby village of Klishchiivka, the Ukrainian military said. Russia has focused on Bakhmut in recent weeks, claiming last week to have taken the mining town of Soledar on its northern outskirts.\\nVladimir Putin has said he has “no doubt” that Russia’s victory in Ukraine was “inevitable”. Putin announced that Russia’s military-industrial complex was ramping up production during a visit to a factory in St Petersburg. In a separate speech, the Russian leader also claimed Moscow’s actions in Ukraine were intended to stop a “war” that had been raging in eastern Ukraine for many years. Ukraine and the west have rejected Putin’s stated objectives of demilitarising and “denazifying” Ukraine as a pretext for a war of choice and unprovoked aggression.\\nBulgaria helped Ukraine survive Russia’s early onslaught by secretly supplying it with large amounts of desperately needed diesel and ammunition, the politicians responsible have said. The former Bulgarian prime minister Kiril Petkov and finance minister Assen Vassilev said their country, one of the poorest EU members and long perceived as pro-Moscow, provided 30% of the Soviet-calibre ammunition Ukraine’s army needed during a crucial three-month period last spring, and at times 40% of the diesel.\\nNato’s secretary general, Jens Stoltenberg, has said Ukraine needed a “significant increase” in weapons in order to reach a “negotiated peaceful solution”. He was cautious on whether Germany would lift its opposition to sending its Leopard battle tanks to Ukraine, or at least approve their transfer, saying consultations were ongoing. Nato’s deputy secretary general, Mircea Geoană, warned that the military alliance must be prepared “for the long haul” and support Ukraine for as long as it takes\\nGermany’s chancellor, Olaf Scholz, has ducked a question about allowing Leopard 2 Tanks to be sent to Ukraine. Speaking to delegates in Davos, Scholz said Germany has been among the biggest supporters of Ukraine, adding that Kyiv can rely on Berlin’s support, but must avoid this becoming a war between Russia and Nato.\\nCanada has announced that it will donate 200 armoured personnel carriers (APCs) to Ukraine. The move came during a visit to Kyiv by Canada’s defence minister, Anita Anand. Ukraine’s president, Volodymyr Zelenskiy, thanked the Canadian people and its prime minister, Justin Trudeau, “on this difficult day”.\\nHello everyone, it’s Léonie Chao-Fong still here with all the latest developments from Ukraine. As always, feel free to drop me a message if you have anything to flag. You can reach me on Twitter or via email.ShareUpdated at\\xa012.06 EST18 Jan 202311.34\\xa0ESTZelenskiy leads minute of silence before addressing world leaders in DavosUkraine’s president, Volodymyr Zelenskiy, is addressing global leaders who have gathered for the World Economic Forum in Davos, Switzerland, via video link.He asks attenders to observe a minute of silence for victims of this morning’s helicopter crash in the Kyiv suburb of Brovary that killed at least 14 people.View image in fullscreenThe Ukrainian president, Volodymyr Zelenskiy, stands during a minute of silence before he addresses the World Economic Forum via video link, in Davos, Switzerland. Photograph: Arnd Wiegmann/ReutersShareUpdated at\\xa011.42 EST18 Jan 202311.17\\xa0ESTNato’s deputy secretary general, Mircea Geoană, has warned that the military alliance must be prepared “for the long haul” and support Ukraine for as long as it takes, as Russia prepares for an extended war.Addressing top European military chiefs, Geoană said Nato countries must invest more in defence, ramp up military industrial manufacturing and harness new technologies to prepare for future wars.Noting that Russia had mobilised more than 200,000 additional troops, he said:\\nWe have no indication that Putin’s goals have changed, so we must be prepared for the long haul. 2023 will be a difficult year and we need to support Ukraine for as long as it takes.\\nShareUpdated at\\xa011.43 EST18 Jan 202311.08\\xa0ESTHere are some of the latest images we have received from the site of this morning’s helicopter crash in Brovary, Ukraine.View image in fullscreenEmergency service workers and military personnel at the site of a helicopter crash in Brovary, Ukraine. Photograph: Ed Ram/Getty ImagesView image in fullscreenA woman lays flowers as tribute to the victims. Photograph: Nacho Doce/ReutersHShareUpdated at\\xa011.09 EST18 Jan 202310.53\\xa0ESTJon HenleyBulgaria, one of the poorest EU members and long perceived as pro-Moscow, helped Ukraine survive Russia’s early onslaught by secretly supplying it with large amounts of desperately needed diesel and ammunition, the politicians responsible have said.The former Bulgarian prime minister Kiril Petkov and finance minister Assen Vassilev said their country provided 30% of the Soviet-calibre ammunition Ukraine’s army needed during a crucial three-month period last spring, and at times 40% of the diesel.The men, who are now in opposition, have described along with the Ukrainian foreign minister, Dmytro Kuleba, the remarkable operation mounted by the small Balkan state, which officially was refusing all requests to arm Ukraine, in interviews with Die Welt.“Kiril Petkov has shown his integrity, and I will always be grateful to him for using all his political skill to find a solution,” Kuleba told the German newspaper, adding that the Bulgarian leader “decided to be on the right side of history, and help us defend ourselves against a much stronger enemy”.Petkov had to act covertly because of the overtly pro-Kremlin sympathies among many in Bulgaria’s political class, including his Socialist coalition partners. Days after Russia’s so-called special operation in Ukraine began on 24 February, he fired his defence minister, who was refusing to call the invasion an act of war.Read the full story here:Bulgaria secretly supplied Ukraine fuel and ammunition in first months of warRead moreShare18 Jan 202310.46\\xa0ESTScholz ducks question on Leopard 2 Tanks, warns of risk of Russia-Nato warGraeme Wearden1:45Olaf Scholz refuses to be drawn on allowing German-made tanks to be supplied to Ukraine – videoWe had hoped that Olaf Scholz would announce a decision on allowing Leopard 2 Tanks to be sent to Ukraine, but he has not.Instead, the German chancellor tells delegates in Davos that we must avoid the conflict escalating into a war between Russia and Nato.He’s asked by one delegate …Q: Why are you hesitating on the decision on allowing Leopard 2 Tanks to be sent to Ukraine?Germany has been among the biggest supporters of Ukraine, Scholz insists, as he embarks on a lengthy defence of Berlin’s approach.He points out that while the US has sent more military support, it does have a much larger defence budget.We decided very early in the war to change our political strategies, Scholz says, not simply supporting Ukraine with humanitarian aid but with a lot of weapons.We will continue to provide support for as long as needed, he insists.Scholz says that the artillery coming from Germany to Ukraine, and its multirocket launcher, are very effective to Ukraine defending its sovereignty.Ukraine can rely on our support, but must avoid this becoming a war between Russia and Nato, Scholz explains.And his “willingness” and the willingness of Germany, is that Ukraine becomes an independent, free, democratic nation that can join the European Union.1:45Olaf Scholz refuses to be drawn on allowing German-made tanks to be supplied to Ukraine – videoReminder: Germany is under heavy pressure to allow the re-export of German-manufactured Leopard 2 tanks, which are used by 13 Nato countries, or to give some of its own to help Ukraine.For more developments from Davos, please follow the live blog here.Davos day 2: businesses fear catastrophic cyberattack soon; Scholz makes speech – liveRead moreShareUpdated at\\xa011.53 EST1\\xa0of\\xa06NextOldestOldestExplore more on these topicsUkraineUkraine war liveRussiaEuropeShareReuse this contentMost viewedMost viewedWorldEuropeUSAmericasAsiaAustraliaMiddle EastAfricaInequalityGlobal developmentNewsOpinionSportCultureLifestyleOriginal reporting and incisive analysis, direct from the Guardian every morningSign up for our emailAbout usHelpComplaints & correctionsSecureDropWork for us\\xa0Privacy policyCookie policyTerms & conditionsContact usAll topicsAll writersDigital newspaper archiveFacebookYouTubeInstagramLinkedInTwitterNewslettersAdvertise with usGuardian LabsSearch jobsBack to top© 2024 Guardian News & Media Limited or its affiliated companies. All rights reserved. (dcr)\\n\\n\""
            ],
            "application/vnd.google.colaboratory.intrinsic+json": {
              "type": "string"
            }
          },
          "metadata": {},
          "execution_count": 19
        }
      ]
    },
    {
      "cell_type": "markdown",
      "source": [
        "## Save the scraped data as csv"
      ],
      "metadata": {
        "id": "q9G3k05_6-in"
      }
    },
    {
      "cell_type": "code",
      "source": [
        "test_df.to_csv(\"scraped_guardianAPI_data.csv\")"
      ],
      "metadata": {
        "id": "KGYXg-yi6S6p"
      },
      "execution_count": 20,
      "outputs": []
    },
    {
      "cell_type": "code",
      "source": [],
      "metadata": {
        "id": "xP06zvRe7LJO"
      },
      "execution_count": null,
      "outputs": []
    }
  ]
}